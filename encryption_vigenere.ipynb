{
 "cells": [
  {
   "cell_type": "code",
   "execution_count": 1,
   "metadata": {},
   "outputs": [],
   "source": [
    "# Creation of the Vigenère table\n",
    "import string\n",
    "alphabet_list = list(string.ascii_uppercase)\n",
    "\n",
    "def creation_vigenere_table():\n",
    "    vigenere_table = []\n",
    "    for i in range(26):\n",
    "        alphabet_list_append = alphabet_list[i:26] + alphabet_list[0:i]\n",
    "        vigenere_table.append(alphabet_list_append)\n",
    "    return vigenere_table"
   ]
  },
  {
   "cell_type": "code",
   "execution_count": 2,
   "metadata": {},
   "outputs": [],
   "source": [
    "def is_ascii(s):\n",
    "    return all(ord(c) < 128 for c in s)"
   ]
  },
  {
   "cell_type": "code",
   "execution_count": 3,
   "metadata": {},
   "outputs": [],
   "source": [
    "def encryption_intermediary_step(user_message):\n",
    "    i = 0\n",
    "    intermediate_message = []\n",
    "    for c in user_message:\n",
    "        if c not in string.punctuation and c != \" \":\n",
    "            intermediate_message.append(encryption_key[i%len(encryption_key)])\n",
    "            i += 1\n",
    "        elif c.isnumeric():\n",
    "            intermediate_message.append(c)\n",
    "        else:\n",
    "            intermediate_message.append(\" \")\n",
    "    return intermediate_message"
   ]
  },
  {
   "cell_type": "code",
   "execution_count": 4,
   "metadata": {},
   "outputs": [],
   "source": [
    "def encryption_final_step(user_message, intermediate_message):   \n",
    "    encrypted_message = []\n",
    "    for m, k in zip(user_message, intermediate_message):\n",
    "        if (m not in string.punctuation and m != \" \" and m.isnumeric() == False) and (k not in string.punctuation and m != \" \" and k.isnumeric() == False):\n",
    "            encrypted_message.append(vigenere_table[alphabet_list.index(m.upper())][alphabet_list.index(k.upper())])\n",
    "        elif m.isnumeric() or k.isnumeric():\n",
    "            encrypted_message.append(m)\n",
    "        else:\n",
    "            encrypted_message.append(\" \")\n",
    "    return encrypted_message"
   ]
  },
  {
   "cell_type": "code",
   "execution_count": 5,
   "metadata": {},
   "outputs": [],
   "source": [
    "def decryption_intermediary_step(encrypted_message):\n",
    "    i = 0\n",
    "    intermediate_message = []\n",
    "    for c in encrypted_message:\n",
    "        if c not in string.punctuation and c != \" \":\n",
    "            intermediate_message.append(encryption_key[i%len(encryption_key)])\n",
    "            i += 1\n",
    "        elif c.isnumeric():\n",
    "            intermediate_message.append(c)\n",
    "        else:\n",
    "            intermediate_message.append(\" \")\n",
    "    return intermediate_message"
   ]
  },
  {
   "cell_type": "code",
   "execution_count": 6,
   "metadata": {},
   "outputs": [],
   "source": [
    "def decryption_final_step(encrypted_message, intermediate_message):   \n",
    "    user_message = []\n",
    "    for m, k in zip(encrypted_message, intermediate_message):\n",
    "        if (m not in string.punctuation and m != \" \" and m.isnumeric() == False) and (k not in string.punctuation and m != \" \" and k.isnumeric() == False):\n",
    "            user_message.append(alphabet_list[vigenere_table[alphabet_list.index(k.upper())].index(m)])\n",
    "        elif m.isnumeric() or k.isnumeric():\n",
    "            user_message.append(m)\n",
    "        else:\n",
    "            user_message.append(\" \")\n",
    "    return user_message"
   ]
  },
  {
   "cell_type": "code",
   "execution_count": 9,
   "metadata": {
    "scrolled": true
   },
   "outputs": [
    {
     "name": "stdout",
     "output_type": "stream",
     "text": [
      "Please enter your message to encrypt : hi' le\n",
      "Please enter your encryption key : g\n",
      "\n",
      "\n",
      "\u001b[1;37;40m *****Here is the Vigenère table*****\n",
      "\u001b[0m\n",
      "[['A', 'B', 'C', 'D', 'E', 'F', 'G', 'H', 'I', 'J', 'K', 'L', 'M', 'N', 'O', 'P', 'Q', 'R', 'S', 'T', 'U', 'V', 'W', 'X', 'Y', 'Z'], ['B', 'C', 'D', 'E', 'F', 'G', 'H', 'I', 'J', 'K', 'L', 'M', 'N', 'O', 'P', 'Q', 'R', 'S', 'T', 'U', 'V', 'W', 'X', 'Y', 'Z', 'A'], ['C', 'D', 'E', 'F', 'G', 'H', 'I', 'J', 'K', 'L', 'M', 'N', 'O', 'P', 'Q', 'R', 'S', 'T', 'U', 'V', 'W', 'X', 'Y', 'Z', 'A', 'B'], ['D', 'E', 'F', 'G', 'H', 'I', 'J', 'K', 'L', 'M', 'N', 'O', 'P', 'Q', 'R', 'S', 'T', 'U', 'V', 'W', 'X', 'Y', 'Z', 'A', 'B', 'C'], ['E', 'F', 'G', 'H', 'I', 'J', 'K', 'L', 'M', 'N', 'O', 'P', 'Q', 'R', 'S', 'T', 'U', 'V', 'W', 'X', 'Y', 'Z', 'A', 'B', 'C', 'D'], ['F', 'G', 'H', 'I', 'J', 'K', 'L', 'M', 'N', 'O', 'P', 'Q', 'R', 'S', 'T', 'U', 'V', 'W', 'X', 'Y', 'Z', 'A', 'B', 'C', 'D', 'E'], ['G', 'H', 'I', 'J', 'K', 'L', 'M', 'N', 'O', 'P', 'Q', 'R', 'S', 'T', 'U', 'V', 'W', 'X', 'Y', 'Z', 'A', 'B', 'C', 'D', 'E', 'F'], ['H', 'I', 'J', 'K', 'L', 'M', 'N', 'O', 'P', 'Q', 'R', 'S', 'T', 'U', 'V', 'W', 'X', 'Y', 'Z', 'A', 'B', 'C', 'D', 'E', 'F', 'G'], ['I', 'J', 'K', 'L', 'M', 'N', 'O', 'P', 'Q', 'R', 'S', 'T', 'U', 'V', 'W', 'X', 'Y', 'Z', 'A', 'B', 'C', 'D', 'E', 'F', 'G', 'H'], ['J', 'K', 'L', 'M', 'N', 'O', 'P', 'Q', 'R', 'S', 'T', 'U', 'V', 'W', 'X', 'Y', 'Z', 'A', 'B', 'C', 'D', 'E', 'F', 'G', 'H', 'I'], ['K', 'L', 'M', 'N', 'O', 'P', 'Q', 'R', 'S', 'T', 'U', 'V', 'W', 'X', 'Y', 'Z', 'A', 'B', 'C', 'D', 'E', 'F', 'G', 'H', 'I', 'J'], ['L', 'M', 'N', 'O', 'P', 'Q', 'R', 'S', 'T', 'U', 'V', 'W', 'X', 'Y', 'Z', 'A', 'B', 'C', 'D', 'E', 'F', 'G', 'H', 'I', 'J', 'K'], ['M', 'N', 'O', 'P', 'Q', 'R', 'S', 'T', 'U', 'V', 'W', 'X', 'Y', 'Z', 'A', 'B', 'C', 'D', 'E', 'F', 'G', 'H', 'I', 'J', 'K', 'L'], ['N', 'O', 'P', 'Q', 'R', 'S', 'T', 'U', 'V', 'W', 'X', 'Y', 'Z', 'A', 'B', 'C', 'D', 'E', 'F', 'G', 'H', 'I', 'J', 'K', 'L', 'M'], ['O', 'P', 'Q', 'R', 'S', 'T', 'U', 'V', 'W', 'X', 'Y', 'Z', 'A', 'B', 'C', 'D', 'E', 'F', 'G', 'H', 'I', 'J', 'K', 'L', 'M', 'N'], ['P', 'Q', 'R', 'S', 'T', 'U', 'V', 'W', 'X', 'Y', 'Z', 'A', 'B', 'C', 'D', 'E', 'F', 'G', 'H', 'I', 'J', 'K', 'L', 'M', 'N', 'O'], ['Q', 'R', 'S', 'T', 'U', 'V', 'W', 'X', 'Y', 'Z', 'A', 'B', 'C', 'D', 'E', 'F', 'G', 'H', 'I', 'J', 'K', 'L', 'M', 'N', 'O', 'P'], ['R', 'S', 'T', 'U', 'V', 'W', 'X', 'Y', 'Z', 'A', 'B', 'C', 'D', 'E', 'F', 'G', 'H', 'I', 'J', 'K', 'L', 'M', 'N', 'O', 'P', 'Q'], ['S', 'T', 'U', 'V', 'W', 'X', 'Y', 'Z', 'A', 'B', 'C', 'D', 'E', 'F', 'G', 'H', 'I', 'J', 'K', 'L', 'M', 'N', 'O', 'P', 'Q', 'R'], ['T', 'U', 'V', 'W', 'X', 'Y', 'Z', 'A', 'B', 'C', 'D', 'E', 'F', 'G', 'H', 'I', 'J', 'K', 'L', 'M', 'N', 'O', 'P', 'Q', 'R', 'S'], ['U', 'V', 'W', 'X', 'Y', 'Z', 'A', 'B', 'C', 'D', 'E', 'F', 'G', 'H', 'I', 'J', 'K', 'L', 'M', 'N', 'O', 'P', 'Q', 'R', 'S', 'T'], ['V', 'W', 'X', 'Y', 'Z', 'A', 'B', 'C', 'D', 'E', 'F', 'G', 'H', 'I', 'J', 'K', 'L', 'M', 'N', 'O', 'P', 'Q', 'R', 'S', 'T', 'U'], ['W', 'X', 'Y', 'Z', 'A', 'B', 'C', 'D', 'E', 'F', 'G', 'H', 'I', 'J', 'K', 'L', 'M', 'N', 'O', 'P', 'Q', 'R', 'S', 'T', 'U', 'V'], ['X', 'Y', 'Z', 'A', 'B', 'C', 'D', 'E', 'F', 'G', 'H', 'I', 'J', 'K', 'L', 'M', 'N', 'O', 'P', 'Q', 'R', 'S', 'T', 'U', 'V', 'W'], ['Y', 'Z', 'A', 'B', 'C', 'D', 'E', 'F', 'G', 'H', 'I', 'J', 'K', 'L', 'M', 'N', 'O', 'P', 'Q', 'R', 'S', 'T', 'U', 'V', 'W', 'X'], ['Z', 'A', 'B', 'C', 'D', 'E', 'F', 'G', 'H', 'I', 'J', 'K', 'L', 'M', 'N', 'O', 'P', 'Q', 'R', 'S', 'T', 'U', 'V', 'W', 'X', 'Y']]\n",
      "\n",
      "\n",
      "\u001b[1;37;40m *****Encryption process*****\n",
      "\u001b[0m\n",
      "\n",
      "--- Message to encrypt :  ['h', 'i', \"'\", ' ', 'l', 'e']\n",
      "\n",
      "--- Intermediary step of keystream :  ['g', 'g', ' ', ' ', 'g', 'g']\n",
      "\n",
      "--- Encrypted message :  ['N', 'O', ' ', ' ', 'R', 'K']\n",
      "\n",
      "\n",
      "\u001b[1;37;40m *****Decryption process*****\n",
      "\u001b[0m\n",
      "\n",
      "--- Message to decrypt :  ['N', 'O', ' ', ' ', 'R', 'K']\n",
      "\n",
      "--- Intermediary step of keystream :  ['g', 'g', ' ', ' ', 'g', 'g']\n",
      "\n",
      "--- Decrypted message :  ['H', 'I', ' ', ' ', 'L', 'E']\n"
     ]
    }
   ],
   "source": [
    "user_message = input(\"Please enter your message to encrypt : \")\n",
    "encryption_key = input(\"Please enter your encryption key : \")\n",
    "while is_ascii(user_message) == False or is_ascii(encryption_key) == False:\n",
    "    user_message = input(\"Message must be in ASCII String! \\nPlease enter your message to encrypt : \")\n",
    "    encryption_key = input(\"Key must be in ASCII String! \\nPlease enter your encryption key : \")\n",
    "\n",
    "user_message = list(user_message)\n",
    "encryption_key = list(encryption_key)\n",
    "print(\"\\n\")\n",
    "print(\"\\033[1;37;40m *****Here is the Vigenère table*****\")\n",
    "print(\"\\x1b[0m\")\n",
    "print(creation_vigenere_table())\n",
    "vigenere_table = creation_vigenere_table()\n",
    "\n",
    "print(\"\\n\\n\"+\"\\033[1;37;40m *****Encryption process*****\")\n",
    "print(\"\\x1b[0m\")\n",
    "print(\"\\n\"+\"--- Message to encrypt : \",user_message)\n",
    "intermediate_message = encryption_intermediary_step(user_message)\n",
    "print(\"\\n\"+\"--- Intermediary step of keystream : \",intermediate_message)\n",
    "encrypted_message = encryption_final_step(user_message, intermediate_message)\n",
    "print(\"\\n\"+\"--- Encrypted message : \",encrypted_message)\n",
    "print(\"\\n\\n\"+\"\\033[1;37;40m *****Decryption process*****\")\n",
    "print(\"\\x1b[0m\")\n",
    "print(\"\\n\"+\"--- Message to decrypt : \",encrypted_message)\n",
    "intermediate_message = decryption_intermediary_step(encrypted_message)\n",
    "print(\"\\n\"+\"--- Intermediary step of keystream : \",intermediate_message)\n",
    "user_message = decryption_final_step(encrypted_message, intermediate_message)\n",
    "print(\"\\n\"+\"--- Decrypted message : \",user_message)"
   ]
  },
  {
   "cell_type": "code",
   "execution_count": null,
   "metadata": {},
   "outputs": [],
   "source": []
  }
 ],
 "metadata": {
  "kernelspec": {
   "display_name": "Python 3",
   "language": "python",
   "name": "python3"
  },
  "language_info": {
   "codemirror_mode": {
    "name": "ipython",
    "version": 3
   },
   "file_extension": ".py",
   "mimetype": "text/x-python",
   "name": "python",
   "nbconvert_exporter": "python",
   "pygments_lexer": "ipython3",
   "version": "3.7.6"
  }
 },
 "nbformat": 4,
 "nbformat_minor": 4
}
